{
 "cells": [
  {
   "cell_type": "code",
   "execution_count": 1,
   "id": "e9f313b0",
   "metadata": {
    "_cell_guid": "b1076dfc-b9ad-4769-8c92-a6c4dae69d19",
    "_uuid": "8f2839f25d086af736a60e9eeb907d3b93b6e0e5",
    "execution": {
     "iopub.execute_input": "2025-06-27T12:40:07.797062Z",
     "iopub.status.busy": "2025-06-27T12:40:07.796031Z",
     "iopub.status.idle": "2025-06-27T12:40:08.942053Z",
     "shell.execute_reply": "2025-06-27T12:40:08.940327Z"
    },
    "papermill": {
     "duration": 1.158561,
     "end_time": "2025-06-27T12:40:08.944933",
     "exception": false,
     "start_time": "2025-06-27T12:40:07.786372",
     "status": "completed"
    },
    "tags": []
   },
   "outputs": [
    {
     "name": "stdout",
     "output_type": "stream",
     "text": [
      "/kaggle/input/loandataset/test_loan.csv\n",
      "/kaggle/input/loandataset/train_loan.csv\n"
     ]
    }
   ],
   "source": [
    "# This Python 3 environment comes with many helpful analytics libraries installed\n",
    "# It is defined by the kaggle/python Docker image: https://github.com/kaggle/docker-python\n",
    "# For example, here's several helpful packages to load\n",
    "\n",
    "import numpy as np # linear algebra\n",
    "import pandas as pd # data processing, CSV file I/O (e.g. pd.read_csv)\n",
    "\n",
    "# Input data files are available in the read-only \"../input/\" directory\n",
    "# For example, running this (by clicking run or pressing Shift+Enter) will list all files under the input directory\n",
    "\n",
    "import os\n",
    "for dirname, _, filenames in os.walk('/kaggle/input'):\n",
    "    for filename in filenames:\n",
    "        print(os.path.join(dirname, filename))\n",
    "\n",
    "# You can write up to 20GB to the current directory (/kaggle/working/) that gets preserved as output when you create a version using \"Save & Run All\" \n",
    "# You can also write temporary files to /kaggle/temp/, but they won't be saved outside of the current session"
   ]
  },
  {
   "cell_type": "code",
   "execution_count": 2,
   "id": "e7a53ad7",
   "metadata": {
    "execution": {
     "iopub.execute_input": "2025-06-27T12:40:08.962688Z",
     "iopub.status.busy": "2025-06-27T12:40:08.961269Z",
     "iopub.status.idle": "2025-06-27T12:41:05.983040Z",
     "shell.execute_reply": "2025-06-27T12:41:05.981533Z"
    },
    "papermill": {
     "duration": 57.033444,
     "end_time": "2025-06-27T12:41:05.985938",
     "exception": false,
     "start_time": "2025-06-27T12:40:08.952494",
     "status": "completed"
    },
    "tags": []
   },
   "outputs": [
    {
     "name": "stdout",
     "output_type": "stream",
     "text": [
      "Collecting pyspark==3.2\r\n",
      "  Downloading pyspark-3.2.0.tar.gz (281.3 MB)\r\n",
      "\u001b[2K     \u001b[90m━━━━━━━━━━━━━━━━━━━━━━━━━━━━━━━━━━━━━━━\u001b[0m \u001b[32m281.3/281.3 MB\u001b[0m \u001b[31m5.4 MB/s\u001b[0m eta \u001b[36m0:00:00\u001b[0m\r\n",
      "\u001b[?25h  Preparing metadata (setup.py) ... \u001b[?25l-\b \b\\\b \bdone\r\n",
      "\u001b[?25hCollecting py4j==0.10.9.2 (from pyspark==3.2)\r\n",
      "  Downloading py4j-0.10.9.2-py2.py3-none-any.whl.metadata (1.3 kB)\r\n",
      "Downloading py4j-0.10.9.2-py2.py3-none-any.whl (198 kB)\r\n",
      "\u001b[2K   \u001b[90m━━━━━━━━━━━━━━━━━━━━━━━━━━━━━━━━━━━━━━━━\u001b[0m \u001b[32m198.8/198.8 kB\u001b[0m \u001b[31m7.4 MB/s\u001b[0m eta \u001b[36m0:00:00\u001b[0m\r\n",
      "\u001b[?25hBuilding wheels for collected packages: pyspark\r\n",
      "  Building wheel for pyspark (setup.py) ... \u001b[?25l-\b \b\\\b \b|\b \bdone\r\n",
      "\u001b[?25h  Created wheel for pyspark: filename=pyspark-3.2.0-py2.py3-none-any.whl size=281805894 sha256=c352b94175f7da6b878e31e97a6dfb99eb07181ed2283c7dccd5a0bd7b6a37cc\r\n",
      "  Stored in directory: /root/.cache/pip/wheels/32/97/d3/8b6d964c8700e4fbb561c71638a92ec55dac9be51eb5fea86d\r\n",
      "Successfully built pyspark\r\n",
      "Installing collected packages: py4j, pyspark\r\n",
      "  Attempting uninstall: py4j\r\n",
      "    Found existing installation: py4j 0.10.9.7\r\n",
      "    Uninstalling py4j-0.10.9.7:\r\n",
      "      Successfully uninstalled py4j-0.10.9.7\r\n",
      "Successfully installed py4j-0.10.9.2 pyspark-3.2.0\r\n"
     ]
    }
   ],
   "source": [
    "# Install pyspark version 3.2\n",
    "!pip install pyspark==3.2"
   ]
  },
  {
   "cell_type": "code",
   "execution_count": 3,
   "id": "475d2718",
   "metadata": {
    "execution": {
     "iopub.execute_input": "2025-06-27T12:41:06.019366Z",
     "iopub.status.busy": "2025-06-27T12:41:06.018908Z",
     "iopub.status.idle": "2025-06-27T12:41:12.901053Z",
     "shell.execute_reply": "2025-06-27T12:41:12.899591Z"
    },
    "papermill": {
     "duration": 6.90243,
     "end_time": "2025-06-27T12:41:12.904183",
     "exception": false,
     "start_time": "2025-06-27T12:41:06.001753",
     "status": "completed"
    },
    "tags": []
   },
   "outputs": [
    {
     "name": "stderr",
     "output_type": "stream",
     "text": [
      "WARNING: An illegal reflective access operation has occurred\n",
      "WARNING: Illegal reflective access by org.apache.spark.unsafe.Platform (file:/opt/conda/lib/python3.10/site-packages/pyspark/jars/spark-unsafe_2.12-3.2.0.jar) to constructor java.nio.DirectByteBuffer(long,int)\n",
      "WARNING: Please consider reporting this to the maintainers of org.apache.spark.unsafe.Platform\n",
      "WARNING: Use --illegal-access=warn to enable warnings of further illegal reflective access operations\n",
      "WARNING: All illegal access operations will be denied in a future release\n",
      "Using Spark's default log4j profile: org/apache/spark/log4j-defaults.properties\n",
      "Setting default log level to \"WARN\".\n",
      "To adjust logging level use sc.setLogLevel(newLevel). For SparkR, use setLogLevel(newLevel).\n",
      "25/06/27 12:41:09 WARN NativeCodeLoader: Unable to load native-hadoop library for your platform... using builtin-java classes where applicable\n"
     ]
    }
   ],
   "source": [
    "# Import the `SparkSession` class from PySpark to create and manage a Spark session.\n",
    "# Initialize a new Spark session with the following configuration:\n",
    "# `master(\"local[4]\")`: Specifies a local Spark instance utilizing 4 CPU cores for parallel processing.\n",
    "# `appName(\"MLib\")`: Names the application \"MLib\" for easier identification in Spark monitoring tools.\n",
    "# The `SparkSession` acts as the entry point for interacting with the Spark cluster and managing resources.\n",
    "\n",
    "from pyspark.sql import SparkSession\n",
    "spark = SparkSession.builder.master(\"local[4]\").appName(\"MLib\").getOrCreate()"
   ]
  },
  {
   "cell_type": "code",
   "execution_count": 4,
   "id": "b535becc",
   "metadata": {
    "execution": {
     "iopub.execute_input": "2025-06-27T12:41:12.938020Z",
     "iopub.status.busy": "2025-06-27T12:41:12.937227Z",
     "iopub.status.idle": "2025-06-27T12:41:19.178345Z",
     "shell.execute_reply": "2025-06-27T12:41:19.177242Z"
    },
    "papermill": {
     "duration": 6.262417,
     "end_time": "2025-06-27T12:41:19.182310",
     "exception": false,
     "start_time": "2025-06-27T12:41:12.919893",
     "status": "completed"
    },
    "tags": []
   },
   "outputs": [
    {
     "name": "stdout",
     "output_type": "stream",
     "text": [
      "+--------+------+-------+----------+------------+-------------+---------------+-----------------+----------+----------------+--------------+-------------+-----------+\n",
      "| Loan_ID|Gender|Married|Dependents|   Education|Self_Employed|ApplicantIncome|CoapplicantIncome|LoanAmount|Loan_Amount_Term|Credit_History|Property_Area|Loan_Status|\n",
      "+--------+------+-------+----------+------------+-------------+---------------+-----------------+----------+----------------+--------------+-------------+-----------+\n",
      "|LP001002|  Male|     No|         0|    Graduate|           No|           5849|              0.0|      null|             360|             1|        Urban|          Y|\n",
      "|LP001003|  Male|    Yes|         1|    Graduate|           No|           4583|           1508.0|       128|             360|             1|        Rural|          N|\n",
      "|LP001005|  Male|    Yes|         0|    Graduate|          Yes|           3000|              0.0|        66|             360|             1|        Urban|          Y|\n",
      "|LP001006|  Male|    Yes|         0|Not Graduate|           No|           2583|           2358.0|       120|             360|             1|        Urban|          Y|\n",
      "|LP001008|  Male|     No|         0|    Graduate|           No|           6000|              0.0|       141|             360|             1|        Urban|          Y|\n",
      "|LP001011|  Male|    Yes|         2|    Graduate|          Yes|           5417|           4196.0|       267|             360|             1|        Urban|          Y|\n",
      "|LP001013|  Male|    Yes|         0|Not Graduate|           No|           2333|           1516.0|        95|             360|             1|        Urban|          Y|\n",
      "|LP001014|  Male|    Yes|        3+|    Graduate|           No|           3036|           2504.0|       158|             360|             0|    Semiurban|          N|\n",
      "|LP001018|  Male|    Yes|         2|    Graduate|           No|           4006|           1526.0|       168|             360|             1|        Urban|          Y|\n",
      "|LP001020|  Male|    Yes|         1|    Graduate|           No|          12841|          10968.0|       349|             360|             1|    Semiurban|          N|\n",
      "|LP001024|  Male|    Yes|         2|    Graduate|           No|           3200|            700.0|        70|             360|             1|        Urban|          Y|\n",
      "|LP001027|  Male|    Yes|         2|    Graduate|         null|           2500|           1840.0|       109|             360|             1|        Urban|          Y|\n",
      "|LP001028|  Male|    Yes|         2|    Graduate|           No|           3073|           8106.0|       200|             360|             1|        Urban|          Y|\n",
      "|LP001029|  Male|     No|         0|    Graduate|           No|           1853|           2840.0|       114|             360|             1|        Rural|          N|\n",
      "|LP001030|  Male|    Yes|         2|    Graduate|           No|           1299|           1086.0|        17|             120|             1|        Urban|          Y|\n",
      "|LP001032|  Male|     No|         0|    Graduate|           No|           4950|              0.0|       125|             360|             1|        Urban|          Y|\n",
      "|LP001034|  Male|     No|         1|Not Graduate|           No|           3596|              0.0|       100|             240|          null|        Urban|          Y|\n",
      "|LP001036|Female|     No|         0|    Graduate|           No|           3510|              0.0|        76|             360|             0|        Urban|          N|\n",
      "|LP001038|  Male|    Yes|         0|Not Graduate|           No|           4887|              0.0|       133|             360|             1|        Rural|          N|\n",
      "|LP001041|  Male|    Yes|         0|    Graduate|         null|           2600|           3500.0|       115|            null|             1|        Urban|          Y|\n",
      "+--------+------+-------+----------+------------+-------------+---------------+-----------------+----------+----------------+--------------+-------------+-----------+\n",
      "only showing top 20 rows\n",
      "\n"
     ]
    }
   ],
   "source": [
    "# Load the dataset `train_loan.csv` into a Spark DataFrame using the `read.csv` method:\n",
    "# `\"/kaggle/input/loandataset/train_loan.csv\"` specifies the file path to the dataset.\n",
    "# `header=True` indicates that the first row contains column headers.\n",
    "# `inferSchema=True` enables Spark to automatically infer the data types of the columns.\n",
    "# Display the first few rows of the loaded DataFrame using the `show()` method to inspect the dataset.\n",
    "\n",
    "ds = spark.read.csv(\"/kaggle/input/loandataset/train_loan.csv\", header = True, inferSchema = True)\n",
    "ds.show()"
   ]
  },
  {
   "cell_type": "code",
   "execution_count": 5,
   "id": "7b09bf8e",
   "metadata": {
    "execution": {
     "iopub.execute_input": "2025-06-27T12:41:19.233442Z",
     "iopub.status.busy": "2025-06-27T12:41:19.232873Z",
     "iopub.status.idle": "2025-06-27T12:41:20.651935Z",
     "shell.execute_reply": "2025-06-27T12:41:20.649886Z"
    },
    "papermill": {
     "duration": 1.447209,
     "end_time": "2025-06-27T12:41:20.656413",
     "exception": false,
     "start_time": "2025-06-27T12:41:19.209204",
     "status": "completed"
    },
    "tags": []
   },
   "outputs": [
    {
     "name": "stdout",
     "output_type": "stream",
     "text": [
      "+-------+------+-------+----------+---------+-------------+---------------+-----------------+----------+----------------+--------------+-------------+-----------+\n",
      "|Loan_ID|Gender|Married|Dependents|Education|Self_Employed|ApplicantIncome|CoapplicantIncome|LoanAmount|Loan_Amount_Term|Credit_History|Property_Area|Loan_Status|\n",
      "+-------+------+-------+----------+---------+-------------+---------------+-----------------+----------+----------------+--------------+-------------+-----------+\n",
      "|      0|    13|      3|        15|        0|           32|              0|                0|        22|              14|            50|            0|          0|\n",
      "+-------+------+-------+----------+---------+-------------+---------------+-----------------+----------+----------------+--------------+-------------+-----------+\n",
      "\n"
     ]
    }
   ],
   "source": [
    "# Checking for missing values in the dataset\n",
    "from pyspark.sql.functions import count,col,when\n",
    "ds_null_values = ds.select([count(when( col(c).isNull(), c)).alias(c) for c in ds.columns])\n",
    "ds_null_values.show()"
   ]
  },
  {
   "cell_type": "code",
   "execution_count": 6,
   "id": "2c53cb60",
   "metadata": {
    "execution": {
     "iopub.execute_input": "2025-06-27T12:41:20.692247Z",
     "iopub.status.busy": "2025-06-27T12:41:20.691781Z",
     "iopub.status.idle": "2025-06-27T12:41:21.826521Z",
     "shell.execute_reply": "2025-06-27T12:41:21.825246Z"
    },
    "papermill": {
     "duration": 1.156914,
     "end_time": "2025-06-27T12:41:21.829771",
     "exception": false,
     "start_time": "2025-06-27T12:41:20.672857",
     "status": "completed"
    },
    "tags": []
   },
   "outputs": [],
   "source": [
    "# Replace missing values (nulls) in categorical columns with the value \"Unknown\":\n",
    "# \"Gender\", \"Married\", \"Dependents\", and \"Self_Employed\" are filled with \"Unknown\".\n",
    "# This strategy ensures that missing values are treated as a separate category,\n",
    "# preserving the data structure and avoiding the loss of potentially valuable information during analysis.\n",
    "\n",
    "from pyspark.sql import functions as F \n",
    "ds = ds.fillna({\"Gender\":\"Unknown\", \"Married\":\"Unknown\", \"Dependents\":\"Unknown\", \"Self_Employed\":\"Unknown\"})\n",
    "\n",
    "# Calculate the approximate median values for the \"LoanAmount\", \"Loan_Amount_Term\", and \"Credit_History\" columns\n",
    "# using PySpark's `approxQuantile` method. \n",
    "# The method efficiently estimates the median (50th percentile) with a relative error of up to 0.25.\n",
    "\n",
    "# Replace missing values (nulls) in the specified columns with their respective median values:\n",
    "# \"LoanAmount\" is filled with `LoanAmount_median`.\n",
    "# \"Loan_Amount_Term\" is filled with `Loan_Amount_Term_median`.\n",
    "# \"Credit_History\" is filled with `Credit_History_median`.\n",
    "\n",
    "LoanAmount_median = ds.approxQuantile(\"LoanAmount\", [0.5], 0.25)[0]\n",
    "Loan_Amount_Term_median = ds.approxQuantile(\"Loan_Amount_Term\", [0.5], 0.25)[0]\n",
    "Credit_History_median = ds.approxQuantile(\"Credit_History\", [0.5], 0.25)[0]\n",
    "\n",
    "ds = ds.na.fill({\"LoanAmount\": LoanAmount_median})\n",
    "ds = ds.na.fill({\"Loan_Amount_Term\": Loan_Amount_Term_median})\n",
    "ds = ds.na.fill({\"Credit_History\":Credit_History_median})"
   ]
  },
  {
   "cell_type": "code",
   "execution_count": 7,
   "id": "cfb2c1e1",
   "metadata": {
    "execution": {
     "iopub.execute_input": "2025-06-27T12:41:21.866216Z",
     "iopub.status.busy": "2025-06-27T12:41:21.864987Z",
     "iopub.status.idle": "2025-06-27T12:41:22.513235Z",
     "shell.execute_reply": "2025-06-27T12:41:22.511973Z"
    },
    "papermill": {
     "duration": 0.66975,
     "end_time": "2025-06-27T12:41:22.517002",
     "exception": false,
     "start_time": "2025-06-27T12:41:21.847252",
     "status": "completed"
    },
    "tags": []
   },
   "outputs": [
    {
     "name": "stdout",
     "output_type": "stream",
     "text": [
      "+-------+------+-------+----------+---------+-------------+---------------+-----------------+----------+----------------+--------------+-------------+-----------+\n",
      "|Loan_ID|Gender|Married|Dependents|Education|Self_Employed|ApplicantIncome|CoapplicantIncome|LoanAmount|Loan_Amount_Term|Credit_History|Property_Area|Loan_Status|\n",
      "+-------+------+-------+----------+---------+-------------+---------------+-----------------+----------+----------------+--------------+-------------+-----------+\n",
      "|      0|     0|      0|         0|        0|            0|              0|                0|         0|               0|             0|            0|          0|\n",
      "+-------+------+-------+----------+---------+-------------+---------------+-----------------+----------+----------------+--------------+-------------+-----------+\n",
      "\n"
     ]
    }
   ],
   "source": [
    "# Create a DataFrame to count the number of missing (null) values in each column of `ds`:\n",
    "# `col(c).isNull()`: Checks for null values in each column `c`.\n",
    "# `when(col(c).isNull(), c)`: Returns the column name `c` if the value is null.\n",
    "# `count()`: Counts the occurrences of null values for each column.\n",
    "# `alias(c)`: Assigns the column name as the alias for the resulting count.\n",
    "# The `select` method creates a new DataFrame containing the null value counts for each column.\n",
    "# Use `show()` to display the null value counts, providing insight into which columns require further cleaning or imputation.\n",
    "\n",
    "ds_null_values_corrected = ds.select([count(when( col(c).isNull(), c)).alias(c) for c in ds.columns])\n",
    "ds_null_values_corrected.show()"
   ]
  },
  {
   "cell_type": "code",
   "execution_count": 8,
   "id": "26d76885",
   "metadata": {
    "execution": {
     "iopub.execute_input": "2025-06-27T12:41:22.579409Z",
     "iopub.status.busy": "2025-06-27T12:41:22.578801Z",
     "iopub.status.idle": "2025-06-27T12:41:26.651076Z",
     "shell.execute_reply": "2025-06-27T12:41:26.649054Z"
    },
    "papermill": {
     "duration": 4.109021,
     "end_time": "2025-06-27T12:41:26.653750",
     "exception": false,
     "start_time": "2025-06-27T12:41:22.544729",
     "status": "completed"
    },
    "tags": []
   },
   "outputs": [
    {
     "name": "stdout",
     "output_type": "stream",
     "text": [
      "+--------+------+-------+----------+------------+-------------+---------------+-----------------+----------+----------------+--------------+-------------+-----------+------------+-------------+---------------+-------------------+-------------------+----------------+-----------------+\n",
      "| Loan_ID|Gender|Married|Dependents|   Education|Self_Employed|ApplicantIncome|CoapplicantIncome|LoanAmount|Loan_Amount_Term|Credit_History|Property_Area|Loan_Status|Gender_index|Married_index|Education_index|Self_Employed_index|Property_Area_index|Dependents_index|Loan_Status_index|\n",
      "+--------+------+-------+----------+------------+-------------+---------------+-----------------+----------+----------------+--------------+-------------+-----------+------------+-------------+---------------+-------------------+-------------------+----------------+-----------------+\n",
      "|LP001002|  Male|     No|         0|    Graduate|           No|           5849|              0.0|       100|             360|             1|        Urban|          Y|         0.0|          1.0|            0.0|                0.0|                1.0|             0.0|              0.0|\n",
      "|LP001003|  Male|    Yes|         1|    Graduate|           No|           4583|           1508.0|       128|             360|             1|        Rural|          N|         0.0|          0.0|            0.0|                0.0|                2.0|             1.0|              1.0|\n",
      "|LP001005|  Male|    Yes|         0|    Graduate|          Yes|           3000|              0.0|        66|             360|             1|        Urban|          Y|         0.0|          0.0|            0.0|                1.0|                1.0|             0.0|              0.0|\n",
      "|LP001006|  Male|    Yes|         0|Not Graduate|           No|           2583|           2358.0|       120|             360|             1|        Urban|          Y|         0.0|          0.0|            1.0|                0.0|                1.0|             0.0|              0.0|\n",
      "|LP001008|  Male|     No|         0|    Graduate|           No|           6000|              0.0|       141|             360|             1|        Urban|          Y|         0.0|          1.0|            0.0|                0.0|                1.0|             0.0|              0.0|\n",
      "|LP001011|  Male|    Yes|         2|    Graduate|          Yes|           5417|           4196.0|       267|             360|             1|        Urban|          Y|         0.0|          0.0|            0.0|                1.0|                1.0|             2.0|              0.0|\n",
      "|LP001013|  Male|    Yes|         0|Not Graduate|           No|           2333|           1516.0|        95|             360|             1|        Urban|          Y|         0.0|          0.0|            1.0|                0.0|                1.0|             0.0|              0.0|\n",
      "|LP001014|  Male|    Yes|        3+|    Graduate|           No|           3036|           2504.0|       158|             360|             0|    Semiurban|          N|         0.0|          0.0|            0.0|                0.0|                0.0|             3.0|              1.0|\n",
      "|LP001018|  Male|    Yes|         2|    Graduate|           No|           4006|           1526.0|       168|             360|             1|        Urban|          Y|         0.0|          0.0|            0.0|                0.0|                1.0|             2.0|              0.0|\n",
      "|LP001020|  Male|    Yes|         1|    Graduate|           No|          12841|          10968.0|       349|             360|             1|    Semiurban|          N|         0.0|          0.0|            0.0|                0.0|                0.0|             1.0|              1.0|\n",
      "|LP001024|  Male|    Yes|         2|    Graduate|           No|           3200|            700.0|        70|             360|             1|        Urban|          Y|         0.0|          0.0|            0.0|                0.0|                1.0|             2.0|              0.0|\n",
      "|LP001027|  Male|    Yes|         2|    Graduate|      Unknown|           2500|           1840.0|       109|             360|             1|        Urban|          Y|         0.0|          0.0|            0.0|                2.0|                1.0|             2.0|              0.0|\n",
      "|LP001028|  Male|    Yes|         2|    Graduate|           No|           3073|           8106.0|       200|             360|             1|        Urban|          Y|         0.0|          0.0|            0.0|                0.0|                1.0|             2.0|              0.0|\n",
      "|LP001029|  Male|     No|         0|    Graduate|           No|           1853|           2840.0|       114|             360|             1|        Rural|          N|         0.0|          1.0|            0.0|                0.0|                2.0|             0.0|              1.0|\n",
      "|LP001030|  Male|    Yes|         2|    Graduate|           No|           1299|           1086.0|        17|             120|             1|        Urban|          Y|         0.0|          0.0|            0.0|                0.0|                1.0|             2.0|              0.0|\n",
      "|LP001032|  Male|     No|         0|    Graduate|           No|           4950|              0.0|       125|             360|             1|        Urban|          Y|         0.0|          1.0|            0.0|                0.0|                1.0|             0.0|              0.0|\n",
      "|LP001034|  Male|     No|         1|Not Graduate|           No|           3596|              0.0|       100|             240|             1|        Urban|          Y|         0.0|          1.0|            1.0|                0.0|                1.0|             1.0|              0.0|\n",
      "|LP001036|Female|     No|         0|    Graduate|           No|           3510|              0.0|        76|             360|             0|        Urban|          N|         1.0|          1.0|            0.0|                0.0|                1.0|             0.0|              1.0|\n",
      "|LP001038|  Male|    Yes|         0|Not Graduate|           No|           4887|              0.0|       133|             360|             1|        Rural|          N|         0.0|          0.0|            1.0|                0.0|                2.0|             0.0|              1.0|\n",
      "|LP001041|  Male|    Yes|         0|    Graduate|      Unknown|           2600|           3500.0|       115|             360|             1|        Urban|          Y|         0.0|          0.0|            0.0|                2.0|                1.0|             0.0|              0.0|\n",
      "+--------+------+-------+----------+------------+-------------+---------------+-----------------+----------+----------------+--------------+-------------+-----------+------------+-------------+---------------+-------------------+-------------------+----------------+-----------------+\n",
      "only showing top 20 rows\n",
      "\n"
     ]
    }
   ],
   "source": [
    "# Import `StringIndexer` from PySpark's ML library to encode categorical columns as numerical indices.\n",
    "# Define the list of categorical columns to be indexed:\n",
    "# Columns like \"Gender\", \"Married\", \"Education\", \"Self_Employed\", \"Property_Area\", \"Dependents\", and \"Loan_Status\"\n",
    "#   will be transformed into numerical representations.\n",
    "\n",
    "# Iterate through each column in the `categorical_columns` list:\n",
    "# For each column `c`, create a `StringIndexer` instance with:\n",
    "# `inputCol=c`: The original categorical column.\n",
    "# `outputCol=c + \"_index\"`: The new column that stores the indexed values.\n",
    "\n",
    "# Fit the indexer to the dataset and transform `ds`, adding the indexed column to the DataFrame.\n",
    "\n",
    "# Use `show()` to display the updated DataFrame, which now includes the new indexed columns.\n",
    "\n",
    "from pyspark.ml.feature import StringIndexer\n",
    "categorical_columns = [\"Gender\", \"Married\", \"Education\", \"Self_Employed\", \"Property_Area\",\"Dependents\",\"Loan_Status\"]\n",
    "for c in categorical_columns:\n",
    "    indexer = StringIndexer(inputCol= c , outputCol= c + \"_index\") \n",
    "    ds= indexer.fit(ds).transform(ds)\n",
    "ds.show() "
   ]
  },
  {
   "cell_type": "code",
   "execution_count": 9,
   "id": "aa79be4d",
   "metadata": {
    "execution": {
     "iopub.execute_input": "2025-06-27T12:41:26.690054Z",
     "iopub.status.busy": "2025-06-27T12:41:26.689533Z",
     "iopub.status.idle": "2025-06-27T12:41:26.970224Z",
     "shell.execute_reply": "2025-06-27T12:41:26.969098Z"
    },
    "papermill": {
     "duration": 0.302029,
     "end_time": "2025-06-27T12:41:26.973631",
     "exception": false,
     "start_time": "2025-06-27T12:41:26.671602",
     "status": "completed"
    },
    "tags": []
   },
   "outputs": [
    {
     "name": "stdout",
     "output_type": "stream",
     "text": [
      "+--------+---------------+-----------------+----------+----------------+--------------+------------+-------------+---------------+-------------------+-------------------+----------------+-----------------+\n",
      "| Loan_ID|ApplicantIncome|CoapplicantIncome|LoanAmount|Loan_Amount_Term|Credit_History|Gender_index|Married_index|Education_index|Self_Employed_index|Property_Area_index|Dependents_index|Loan_Status_index|\n",
      "+--------+---------------+-----------------+----------+----------------+--------------+------------+-------------+---------------+-------------------+-------------------+----------------+-----------------+\n",
      "|LP001002|           5849|              0.0|       100|             360|             1|         0.0|          1.0|            0.0|                0.0|                1.0|             0.0|              0.0|\n",
      "|LP001003|           4583|           1508.0|       128|             360|             1|         0.0|          0.0|            0.0|                0.0|                2.0|             1.0|              1.0|\n",
      "|LP001005|           3000|              0.0|        66|             360|             1|         0.0|          0.0|            0.0|                1.0|                1.0|             0.0|              0.0|\n",
      "|LP001006|           2583|           2358.0|       120|             360|             1|         0.0|          0.0|            1.0|                0.0|                1.0|             0.0|              0.0|\n",
      "|LP001008|           6000|              0.0|       141|             360|             1|         0.0|          1.0|            0.0|                0.0|                1.0|             0.0|              0.0|\n",
      "|LP001011|           5417|           4196.0|       267|             360|             1|         0.0|          0.0|            0.0|                1.0|                1.0|             2.0|              0.0|\n",
      "|LP001013|           2333|           1516.0|        95|             360|             1|         0.0|          0.0|            1.0|                0.0|                1.0|             0.0|              0.0|\n",
      "|LP001014|           3036|           2504.0|       158|             360|             0|         0.0|          0.0|            0.0|                0.0|                0.0|             3.0|              1.0|\n",
      "|LP001018|           4006|           1526.0|       168|             360|             1|         0.0|          0.0|            0.0|                0.0|                1.0|             2.0|              0.0|\n",
      "|LP001020|          12841|          10968.0|       349|             360|             1|         0.0|          0.0|            0.0|                0.0|                0.0|             1.0|              1.0|\n",
      "|LP001024|           3200|            700.0|        70|             360|             1|         0.0|          0.0|            0.0|                0.0|                1.0|             2.0|              0.0|\n",
      "|LP001027|           2500|           1840.0|       109|             360|             1|         0.0|          0.0|            0.0|                2.0|                1.0|             2.0|              0.0|\n",
      "|LP001028|           3073|           8106.0|       200|             360|             1|         0.0|          0.0|            0.0|                0.0|                1.0|             2.0|              0.0|\n",
      "|LP001029|           1853|           2840.0|       114|             360|             1|         0.0|          1.0|            0.0|                0.0|                2.0|             0.0|              1.0|\n",
      "|LP001030|           1299|           1086.0|        17|             120|             1|         0.0|          0.0|            0.0|                0.0|                1.0|             2.0|              0.0|\n",
      "|LP001032|           4950|              0.0|       125|             360|             1|         0.0|          1.0|            0.0|                0.0|                1.0|             0.0|              0.0|\n",
      "|LP001034|           3596|              0.0|       100|             240|             1|         0.0|          1.0|            1.0|                0.0|                1.0|             1.0|              0.0|\n",
      "|LP001036|           3510|              0.0|        76|             360|             0|         1.0|          1.0|            0.0|                0.0|                1.0|             0.0|              1.0|\n",
      "|LP001038|           4887|              0.0|       133|             360|             1|         0.0|          0.0|            1.0|                0.0|                2.0|             0.0|              1.0|\n",
      "|LP001041|           2600|           3500.0|       115|             360|             1|         0.0|          0.0|            0.0|                2.0|                1.0|             0.0|              0.0|\n",
      "+--------+---------------+-----------------+----------+----------------+--------------+------------+-------------+---------------+-------------------+-------------------+----------------+-----------------+\n",
      "only showing top 20 rows\n",
      "\n"
     ]
    }
   ],
   "source": [
    "# Define the list of columns to be removed from the DataFrame:\n",
    "# - \"Gender\", \"Married\", \"Education\", \"Self_Employed\", \"Property_Area\", \"Dependents\", and \"Loan_Status\"\n",
    "#   are removed as their encoded versions (with \"_index\") now exist in the DataFrame.\n",
    "\n",
    "# Use the `drop()` method with unpacking (`*columns_to_delete`) to remove the specified columns.\n",
    "\n",
    "# Display the updated DataFrame using `show()` to confirm the removal of the original categorical columns.\n",
    " \n",
    "columns_to_delete = [\"Gender\", \"Married\", \"Education\", \"Self_Employed\", \"Property_Area\",\"Dependents\",\"Loan_Status\"]\n",
    "ds = ds.drop(*columns_to_delete)\n",
    "ds.show()"
   ]
  },
  {
   "cell_type": "code",
   "execution_count": 10,
   "id": "4a2da9d0",
   "metadata": {
    "execution": {
     "iopub.execute_input": "2025-06-27T12:41:27.006764Z",
     "iopub.status.busy": "2025-06-27T12:41:27.006355Z",
     "iopub.status.idle": "2025-06-27T12:41:27.338853Z",
     "shell.execute_reply": "2025-06-27T12:41:27.337011Z"
    },
    "papermill": {
     "duration": 0.35243,
     "end_time": "2025-06-27T12:41:27.341813",
     "exception": false,
     "start_time": "2025-06-27T12:41:26.989383",
     "status": "completed"
    },
    "tags": []
   },
   "outputs": [],
   "source": [
    "# Convert the PySpark DataFrame `ds` to a Pandas DataFrame for easier manipulation and analysis.\n",
    "# Define a function `detect_outliers` to identify outliers in a specified column using the Interquartile Range (IQR) method:\n",
    "# Calculate the first quartile (Q1) and the third quartile (Q3) for the column.\n",
    "# Compute the IQR as the difference between Q3 and Q1.\n",
    "# Determine the lower and upper bounds as Q1 - 1.5 * IQR and Q3 + 1.5 * IQR, respectively.\n",
    "# Filter and return rows where column values fall outside these bounds as outliers.\n",
    "\n",
    "ds_pandas = ds.toPandas()\n",
    "def detect_outliers(df, column):\n",
    " Q1 = df[column].quantile(0.25)\n",
    " Q3 = df[column].quantile(0.75)\n",
    " IQR = Q3 - Q1\n",
    " lower_bound = Q1 - 1.5 * IQR\n",
    " upper_bound = Q3 + 1.5 * IQR\n",
    " outliers = df[(df[column] < lower_bound) | (df[column] > upper_bound)]\n",
    " return outliers\n",
    "    \n",
    "# Find outliers in ApplicantIncome, CoapplicantIncome, LoanAmount and Loan_Amount_Term \n",
    "\n",
    "outliers_ApplicantIncome = detect_outliers(ds_pandas, 'ApplicantIncome')\n",
    "outliers_CoapplicantIncome = detect_outliers(ds_pandas, 'CoapplicantIncome')\n",
    "outliers_LoanAmount = detect_outliers(ds_pandas, 'LoanAmount')\n",
    "outliers_Loan_Amount_Term = detect_outliers(ds_pandas, 'Loan_Amount_Term')"
   ]
  },
  {
   "cell_type": "code",
   "execution_count": 11,
   "id": "6b742841",
   "metadata": {
    "execution": {
     "iopub.execute_input": "2025-06-27T12:41:27.374323Z",
     "iopub.status.busy": "2025-06-27T12:41:27.373875Z",
     "iopub.status.idle": "2025-06-27T12:41:29.263037Z",
     "shell.execute_reply": "2025-06-27T12:41:29.261470Z"
    },
    "papermill": {
     "duration": 1.908666,
     "end_time": "2025-06-27T12:41:29.265738",
     "exception": false,
     "start_time": "2025-06-27T12:41:27.357072",
     "status": "completed"
    },
    "tags": []
   },
   "outputs": [
    {
     "data": {
      "image/png": "[encoded data removed]",
      "text/plain": [
       "<Figure size 640x480 with 1 Axes>"
      ]
     },
     "metadata": {},
     "output_type": "display_data"
    }
   ],
   "source": [
    "import seaborn as sns\n",
    "import matplotlib.pyplot as plt\n",
    "# Box plot for ApplicantIncome, CoapplicantIncome,LoanAmount and Loan_Amount_Term\n",
    "sns.boxplot(data=ds_pandas[['ApplicantIncome', 'CoapplicantIncome', 'LoanAmount' , 'Loan_Amount_Term']])\n",
    "plt.title('Boxplot for ApplicantIncome, CoapplicantIncome, LoanAmount and Loan_Amount_Term')\n",
    "plt.show()\n"
   ]
  },
  {
   "cell_type": "code",
   "execution_count": 12,
   "id": "0ad303af",
   "metadata": {
    "execution": {
     "iopub.execute_input": "2025-06-27T12:41:29.299790Z",
     "iopub.status.busy": "2025-06-27T12:41:29.299214Z",
     "iopub.status.idle": "2025-06-27T12:41:29.309091Z",
     "shell.execute_reply": "2025-06-27T12:41:29.307692Z"
    },
    "papermill": {
     "duration": 0.029648,
     "end_time": "2025-06-27T12:41:29.311524",
     "exception": false,
     "start_time": "2025-06-27T12:41:29.281876",
     "status": "completed"
    },
    "tags": []
   },
   "outputs": [],
   "source": [
    "# Apply logarithmic transformation to selected numerical columns to reduce skewness and normalize the distribution.\n",
    "# A small constant (1) is added to avoid issues with zero values before applying the logarithm.\n",
    "# \"ApplicantIncome\", \"CoapplicantIncome\", and \"LoanAmount\" columns are transformed to handle large variations.\n",
    "# \"Loan_Amount_Term\" is also transformed to improve the distribution for further analysis or modeling.\n",
    "\n",
    "ds_pandas[\"ApplicantIncome\"] = np.log(ds_pandas[\"ApplicantIncome\"] + 1 )\n",
    "ds_pandas[\"CoapplicantIncome\"] = np.log(ds_pandas[\"CoapplicantIncome\"] + 1 )\n",
    "ds_pandas[\"LoanAmount\"] = np.log(ds_pandas[\"LoanAmount\"] + 1 )\n",
    "ds_pandas[\"Loan_Amount_Term\"] = np.log(ds_pandas[\"Loan_Amount_Term\"] + 1 )"
   ]
  },
  {
   "cell_type": "code",
   "execution_count": 13,
   "id": "b3742a31",
   "metadata": {
    "execution": {
     "iopub.execute_input": "2025-06-27T12:41:29.345113Z",
     "iopub.status.busy": "2025-06-27T12:41:29.344668Z",
     "iopub.status.idle": "2025-06-27T12:41:29.566691Z",
     "shell.execute_reply": "2025-06-27T12:41:29.565224Z"
    },
    "papermill": {
     "duration": 0.242039,
     "end_time": "2025-06-27T12:41:29.569320",
     "exception": false,
     "start_time": "2025-06-27T12:41:29.327281",
     "status": "completed"
    },
    "tags": []
   },
   "outputs": [
    {
     "data": {
      "image/png": "[encoded data removed]",
      "text/plain": [
       "<Figure size 640x480 with 1 Axes>"
      ]
     },
     "metadata": {},
     "output_type": "display_data"
    }
   ],
   "source": [
    "# Create a boxplot using Seaborn to visualize the distribution and detect potential outliers\n",
    "# for the specified numerical columns in the Pandas DataFrame `ds_pandas`.\n",
    "\n",
    "# Pass the subset of columns to be visualized:\n",
    "# - \"ApplicantIncome\", \"CoapplicantIncome\", \"LoanAmount\", and \"Loan_Amount_Term\".\n",
    "\n",
    "# Add a title to the plot for context.\n",
    "\n",
    "# Use `plt.show()` to render the plot.\n",
    "# The boxplot will display the median, interquartile range (IQR), and potential outliers for each column.\n",
    "\n",
    "sns.boxplot(data=ds_pandas[['ApplicantIncome', 'CoapplicantIncome', 'LoanAmount' , 'Loan_Amount_Term']])\n",
    "plt.title('Boxplot for ApplicantIncome, CoapplicantIncome, LoanAmount and Loan_Amount_Term')\n",
    "plt.show()"
   ]
  },
  {
   "cell_type": "code",
   "execution_count": 14,
   "id": "eb5bb4fe",
   "metadata": {
    "execution": {
     "iopub.execute_input": "2025-06-27T12:41:29.606911Z",
     "iopub.status.busy": "2025-06-27T12:41:29.605731Z",
     "iopub.status.idle": "2025-06-27T12:41:29.617019Z",
     "shell.execute_reply": "2025-06-27T12:41:29.615441Z"
    },
    "papermill": {
     "duration": 0.03321,
     "end_time": "2025-06-27T12:41:29.619576",
     "exception": false,
     "start_time": "2025-06-27T12:41:29.586366",
     "status": "completed"
    },
    "tags": []
   },
   "outputs": [],
   "source": [
    "# Convert the data types of specific columns in the Pandas DataFrame `ds_pandas`:\n",
    "# - \"Loan_ID\" is converted to `str` to ensure it is treated as a string identifier.\n",
    "# - \"ApplicantIncome\" is converted to `int` for numerical consistency as an integer.\n",
    "# - \"CoapplicantIncome\" is converted to `float` to handle potential decimal values.\n",
    "# - \"LoanAmount\" is converted to `int` for numerical representation as whole numbers.\n",
    "# - \"Loan_Amount_Term\" is converted to `int` for consistent integer representation.\n",
    "# - \"Credit_History\" is converted to `int` to ensure uniform handling of credit history categories.\n",
    "\n",
    "# This ensures the data types are appropriately formatted for further processing and analysis.\n",
    "\n",
    "ds_pandas[\"Loan_ID\"] = ds_pandas[\"Loan_ID\"].astype(str)\n",
    "ds_pandas[\"ApplicantIncome\"] = ds_pandas[\"ApplicantIncome\"].astype(int)\n",
    "ds_pandas[\"CoapplicantIncome\"] = ds_pandas[\"CoapplicantIncome\"].astype(float)\n",
    "ds_pandas[\"LoanAmount\"] = ds_pandas[\"LoanAmount\"].astype(int)\n",
    "ds_pandas[\"Loan_Amount_Term\"] = ds_pandas[\"Loan_Amount_Term\"].astype(int)\n",
    "ds_pandas[\"Credit_History\"] = ds_pandas[\"Credit_History\"].astype(int)"
   ]
  },
  {
   "cell_type": "code",
   "execution_count": 15,
   "id": "820dbf9c",
   "metadata": {
    "execution": {
     "iopub.execute_input": "2025-06-27T12:41:29.657801Z",
     "iopub.status.busy": "2025-06-27T12:41:29.657402Z",
     "iopub.status.idle": "2025-06-27T12:41:30.704709Z",
     "shell.execute_reply": "2025-06-27T12:41:30.699358Z"
    },
    "papermill": {
     "duration": 1.071382,
     "end_time": "2025-06-27T12:41:30.708315",
     "exception": false,
     "start_time": "2025-06-27T12:41:29.636933",
     "status": "completed"
    },
    "tags": []
   },
   "outputs": [
    {
     "name": "stderr",
     "output_type": "stream",
     "text": [
      "[Stage 36:>                                                         (0 + 1) / 1]\r"
     ]
    },
    {
     "name": "stdout",
     "output_type": "stream",
     "text": [
      "+--------+---------------+-----------------+----------+----------------+--------------+------------+-------------+---------------+-------------------+-------------------+----------------+-----------------+\n",
      "| Loan_ID|ApplicantIncome|CoapplicantIncome|LoanAmount|Loan_Amount_Term|Credit_History|Gender_index|Married_index|Education_index|Self_Employed_index|Property_Area_index|Dependents_index|Loan_Status_index|\n",
      "+--------+---------------+-----------------+----------+----------------+--------------+------------+-------------+---------------+-------------------+-------------------+----------------+-----------------+\n",
      "|LP001002|              8|              0.0|         4|               5|             1|         0.0|          1.0|            0.0|                0.0|                1.0|             0.0|              0.0|\n",
      "|LP001003|              8|        7.3192024|         4|               5|             1|         0.0|          0.0|            0.0|                0.0|                2.0|             1.0|              1.0|\n",
      "|LP001005|              8|              0.0|         4|               5|             1|         0.0|          0.0|            0.0|                1.0|                1.0|             0.0|              0.0|\n",
      "|LP001006|              7|         7.765993|         4|               5|             1|         0.0|          0.0|            1.0|                0.0|                1.0|             0.0|              0.0|\n",
      "|LP001008|              8|              0.0|         4|               5|             1|         0.0|          1.0|            0.0|                0.0|                1.0|             0.0|              0.0|\n",
      "|LP001011|              8|         8.342125|         5|               5|             1|         0.0|          0.0|            0.0|                1.0|                1.0|             2.0|              0.0|\n",
      "|LP001013|              7|          7.32449|         4|               5|             1|         0.0|          0.0|            1.0|                0.0|                1.0|             0.0|              0.0|\n",
      "|LP001014|              8|         7.826044|         5|               5|             0|         0.0|          0.0|            0.0|                0.0|                0.0|             3.0|              1.0|\n",
      "|LP001018|              8|        7.3310604|         5|               5|             1|         0.0|          0.0|            0.0|                0.0|                1.0|             2.0|              0.0|\n",
      "|LP001020|              9|         9.302829|         5|               5|             1|         0.0|          0.0|            0.0|                0.0|                0.0|             1.0|              1.0|\n",
      "|LP001024|              8|         6.552508|         4|               5|             1|         0.0|          0.0|            0.0|                0.0|                1.0|             2.0|              0.0|\n",
      "|LP001027|              7|         7.518064|         4|               5|             1|         0.0|          0.0|            0.0|                2.0|                1.0|             2.0|              0.0|\n",
      "|LP001028|              8|        9.0004835|         5|               5|             1|         0.0|          0.0|            0.0|                0.0|                1.0|             2.0|              0.0|\n",
      "|LP001029|              7|        7.9519114|         4|               5|             1|         0.0|          1.0|            0.0|                0.0|                2.0|             0.0|              1.0|\n",
      "|LP001030|              7|         6.991177|         2|               4|             1|         0.0|          0.0|            0.0|                0.0|                1.0|             2.0|              0.0|\n",
      "|LP001032|              8|              0.0|         4|               5|             1|         0.0|          1.0|            0.0|                0.0|                1.0|             0.0|              0.0|\n",
      "|LP001034|              8|              0.0|         4|               5|             1|         0.0|          1.0|            1.0|                0.0|                1.0|             1.0|              0.0|\n",
      "|LP001036|              8|              0.0|         4|               5|             0|         1.0|          1.0|            0.0|                0.0|                1.0|             0.0|              1.0|\n",
      "|LP001038|              8|              0.0|         4|               5|             1|         0.0|          0.0|            1.0|                0.0|                2.0|             0.0|              1.0|\n",
      "|LP001041|              7|         8.160804|         4|               5|             1|         0.0|          0.0|            0.0|                2.0|                1.0|             0.0|              0.0|\n",
      "+--------+---------------+-----------------+----------+----------------+--------------+------------+-------------+---------------+-------------------+-------------------+----------------+-----------------+\n",
      "only showing top 20 rows\n",
      "\n"
     ]
    },
    {
     "name": "stderr",
     "output_type": "stream",
     "text": [
      "                                                                                \r"
     ]
    }
   ],
   "source": [
    "# Convert the Pandas DataFrame to a list of row dictionaries\n",
    "data_records = ds_pandas.to_dict(orient='records')\n",
    "from pyspark.sql.types import StructType, StructField, StringType, IntegerType, FloatType\n",
    "\n",
    "schema = StructType([\n",
    "    StructField(\"Loan_ID\", StringType(), True),\n",
    "    StructField(\"ApplicantIncome\", IntegerType(), True),\n",
    "    StructField(\"CoapplicantIncome\", FloatType(), True),\n",
    "    StructField(\"LoanAmount\", IntegerType(), True),\n",
    "    StructField(\"Loan_Amount_Term\", IntegerType(), True),\n",
    "    StructField(\"Credit_History\", IntegerType(), True),\n",
    "    StructField(\"Gender_index\", FloatType(), True),\n",
    "    StructField(\"Married_index\", FloatType(), True),\n",
    "    StructField(\"Education_index\", FloatType(), True),\n",
    "    StructField(\"Self_Employed_index\", FloatType(), True),\n",
    "    StructField(\"Property_Area_index\", FloatType(), True),\n",
    "    StructField(\"Dependents_index\", FloatType(), True),\n",
    "    StructField(\"Loan_Status_index\", FloatType(), True)\n",
    "])\n",
    "# Create Spark DataFrame from list of dictionaries with schema\n",
    "ds = spark.createDataFrame(data_records, schema=schema)\n",
    "ds.show()"
   ]
  },
  {
   "cell_type": "code",
   "execution_count": 16,
   "id": "856d6bec",
   "metadata": {
    "execution": {
     "iopub.execute_input": "2025-06-27T12:41:30.770415Z",
     "iopub.status.busy": "2025-06-27T12:41:30.769773Z",
     "iopub.status.idle": "2025-06-27T12:41:30.799826Z",
     "shell.execute_reply": "2025-06-27T12:41:30.798786Z"
    },
    "papermill": {
     "duration": 0.063121,
     "end_time": "2025-06-27T12:41:30.802373",
     "exception": false,
     "start_time": "2025-06-27T12:41:30.739252",
     "status": "completed"
    },
    "tags": []
   },
   "outputs": [],
   "source": [
    "# Import `VectorAssembler` and `MinMaxScaler` from PySpark ML for feature engineering and scaling.\n",
    "\n",
    "# Step 1: Label Encoding\n",
    "# - Create a `StringIndexer` to convert the \"Loan_Status_index\" column into a numerical label.\n",
    "# - `inputCol=\"Loan_Status_index\"` specifies the input column.\n",
    "# - `outputCol=\"label\"` specifies the target column for storing the encoded labels.\n",
    "\n",
    "# Step 2: Feature Vectorization\n",
    "# - Use `VectorAssembler` to combine multiple feature columns into a single vector column.\n",
    "# - `inputCols` includes numerical and categorical features that are important for modeling:\n",
    "#   - \"Dependents_index\", \"ApplicantIncome\", \"CoapplicantIncome\", \"LoanAmount\",\n",
    "#     \"Loan_Amount_Term\", \"Credit_History\", \"Gender_index\", \"Married_index\",\n",
    "#     \"Education_index\", \"Self_Employed_index\", \"Property_Area_index\".\n",
    "# - `outputCol=\"features\"` creates a new column to store the assembled feature vectors.\n",
    "\n",
    "# Step 3: Feature Scaling\n",
    "# - Use `MinMaxScaler` to normalize the feature vectors in the \"features\" column.\n",
    "# - `inputCol=\"features\"` specifies the column to scale.\n",
    "# - `outputCol=\"scaledFeatures\"` creates a new column with scaled values in the range [0, 1].\n",
    "\n",
    "# This pipeline prepares the dataset for machine learning by encoding labels, combining features, and scaling them for better model performance.\n",
    "\n",
    "from pyspark.ml.feature import  VectorAssembler, MinMaxScaler\n",
    "label_indexer = StringIndexer (inputCol= \"Loan_Status_index\", outputCol= \"label\")\n",
    "assembler = VectorAssembler(inputCols= [\"Dependents_index\",\"ApplicantIncome\",\"CoapplicantIncome\",\"LoanAmount\",\"Loan_Amount_Term\",\"Credit_History\",\"Gender_index\",\"Married_index\",\"Education_index\",\"Self_Employed_index\",\"Property_Area_index\"], outputCol= \"features\")\n",
    "scaler = MinMaxScaler(inputCol=\"features\", outputCol=\"scaledFeatures\")\n"
   ]
  },
  {
   "cell_type": "code",
   "execution_count": 17,
   "id": "933414f5",
   "metadata": {
    "execution": {
     "iopub.execute_input": "2025-06-27T12:41:30.837022Z",
     "iopub.status.busy": "2025-06-27T12:41:30.836631Z",
     "iopub.status.idle": "2025-06-27T12:41:32.663301Z",
     "shell.execute_reply": "2025-06-27T12:41:32.661960Z"
    },
    "papermill": {
     "duration": 1.848892,
     "end_time": "2025-06-27T12:41:32.667652",
     "exception": false,
     "start_time": "2025-06-27T12:41:30.818760",
     "status": "completed"
    },
    "tags": []
   },
   "outputs": [],
   "source": [
    "# Import the `Pipeline` class from PySpark ML to automate the sequence of data preprocessing steps.\n",
    "\n",
    "# Step 1: Define the pipeline stages:\n",
    "# - `label_indexer`: Converts \"Loan_Status_index\" to a numerical label stored in the \"label\" column.\n",
    "# - `assembler`: Combines feature columns into a single vector in the \"features\" column.\n",
    "# - `scaler`: Normalizes the \"features\" column to the range [0, 1], outputting to \"scaledFeatures\".\n",
    "\n",
    "# Step 2: Initialize a `Pipeline` with the defined stages:\n",
    "# - The `Pipeline` ensures the stages are executed in sequence.\n",
    "\n",
    "# Step 3: Fit the pipeline to the dataset `ds`:\n",
    "# - `fit()` trains the pipeline components using the data, such as determining scaling parameters.\n",
    "\n",
    "# Step 4: Apply the pipeline transformations:\n",
    "# - `transform()` processes the dataset, producing the transformed DataFrame `ds_training_cleansed`.\n",
    "# - The resulting DataFrame includes columns like \"label\", \"features\", and \"scaledFeatures\", ready for model training.\n",
    "\n",
    "# This approach streamlines preprocessing, ensuring all steps are executed consistently and reproducibly.\n",
    "\n",
    "from pyspark.ml import Pipeline\n",
    "ds_stages = Pipeline(stages=[label_indexer,assembler,scaler])\n",
    "ds_fit = ds_stages.fit(ds)\n",
    "ds_training_cleansed = ds_fit.transform(ds)"
   ]
  },
  {
   "cell_type": "code",
   "execution_count": 18,
   "id": "db0881a3",
   "metadata": {
    "execution": {
     "iopub.execute_input": "2025-06-27T12:41:32.707296Z",
     "iopub.status.busy": "2025-06-27T12:41:32.706853Z",
     "iopub.status.idle": "2025-06-27T12:41:32.994300Z",
     "shell.execute_reply": "2025-06-27T12:41:32.993008Z"
    },
    "papermill": {
     "duration": 0.312325,
     "end_time": "2025-06-27T12:41:32.999550",
     "exception": false,
     "start_time": "2025-06-27T12:41:32.687225",
     "status": "completed"
    },
    "tags": []
   },
   "outputs": [
    {
     "name": "stdout",
     "output_type": "stream",
     "text": [
      "+--------+-----------------+-----+--------------------+--------------------+\n",
      "| Loan_ID|Loan_Status_index|label|            features|      scaledFeatures|\n",
      "+--------+-----------------+-----+--------------------+--------------------+\n",
      "|LP001002|              0.0|  0.0|(11,[1,3,4,5,7,10...|(11,[1,3,4,5,7,10...|\n",
      "|LP001003|              1.0|  1.0|[1.0,8.0,7.319202...|[0.25,0.5,0.68805...|\n",
      "|LP001005|              0.0|  0.0|(11,[1,3,4,5,9,10...|(11,[1,3,4,5,9,10...|\n",
      "|LP001006|              0.0|  0.0|[0.0,7.0,7.765993...|[0.0,0.3333333333...|\n",
      "|LP001008|              0.0|  0.0|(11,[1,3,4,5,7,10...|(11,[1,3,4,5,7,10...|\n",
      "|LP001011|              0.0|  0.0|[2.0,8.0,8.342124...|[0.5,0.5,0.784219...|\n",
      "|LP001013|              0.0|  0.0|[0.0,7.0,7.324490...|[0.0,0.3333333333...|\n",
      "|LP001014|              1.0|  1.0|(11,[0,1,2,3,4],[...|(11,[0,1,2,3,4],[...|\n",
      "|LP001018|              0.0|  0.0|[2.0,8.0,7.331060...|[0.5,0.5,0.689172...|\n",
      "|LP001020|              1.0|  1.0|(11,[0,1,2,3,4,5]...|(11,[0,1,2,3,4,5]...|\n",
      "|LP001024|              0.0|  0.0|[2.0,8.0,6.552507...|[0.5,0.5,0.615982...|\n",
      "|LP001027|              0.0|  0.0|[2.0,7.0,7.518064...|[0.5,0.3333333333...|\n",
      "|LP001028|              0.0|  0.0|[2.0,8.0,9.000483...|[0.5,0.5,0.846109...|\n",
      "|LP001029|              1.0|  1.0|[0.0,7.0,7.951911...|[0.0,0.3333333333...|\n",
      "|LP001030|              0.0|  0.0|[2.0,7.0,6.991177...|(11,[0,1,2,4,5,10...|\n",
      "|LP001032|              0.0|  0.0|(11,[1,3,4,5,7,10...|(11,[1,3,4,5,7,10...|\n",
      "|LP001034|              0.0|  0.0|[1.0,8.0,0.0,4.0,...|[0.25,0.5,0.0,0.5...|\n",
      "|LP001036|              1.0|  1.0|(11,[1,3,4,6,7,10...|(11,[1,3,4,6,7,10...|\n",
      "|LP001038|              1.0|  1.0|(11,[1,3,4,5,8,10...|(11,[1,3,4,5,8,10...|\n",
      "|LP001041|              0.0|  0.0|[0.0,7.0,8.160803...|[0.0,0.3333333333...|\n",
      "+--------+-----------------+-----+--------------------+--------------------+\n",
      "only showing top 20 rows\n",
      "\n"
     ]
    }
   ],
   "source": [
    "# Define a list of columns to be dropped from the DataFrame:\n",
    "# - The columns \"Dependents_index\", \"ApplicantIncome\", \"CoapplicantIncome\", \"LoanAmount\",\n",
    "#   \"Loan_Amount_Term\", \"Credit_History\", \"Loan_Status\", \"Gender_index\", \"Married_index\",\n",
    "#   \"Education_index\", \"Self_Employed_index\", and \"Property_Area_index\" are removed as they are now \n",
    "#   represented in the \"features\" or \"label\" columns.\n",
    "\n",
    "# Use the `drop()` method with unpacking (`*columns_to_drop`) to remove the specified columns from the DataFrame.\n",
    "\n",
    "# Display the resulting DataFrame `ds_training_cleansed` using `show()` to confirm the removal of the columns.\n",
    "# The remaining columns are expected to include \"features\", \"scaledFeatures\", and \"label\", ready for modeling.\n",
    "\n",
    "columns_to_drop = [\"Dependents_index\",\"ApplicantIncome\",\"CoapplicantIncome\",\"LoanAmount\",\"Loan_Amount_Term\",\"Credit_History\",\"Loan_Status\",\"Gender_index\",\"Married_index\",\"Education_index\",\"Self_Employed_index\",\"Property_Area_index\"]\n",
    "ds_training_cleansed = ds_training_cleansed.drop(*columns_to_drop)\n",
    "ds_training_cleansed.show()"
   ]
  },
  {
   "cell_type": "code",
   "execution_count": 19,
   "id": "ff910c43",
   "metadata": {
    "execution": {
     "iopub.execute_input": "2025-06-27T12:41:33.067832Z",
     "iopub.status.busy": "2025-06-27T12:41:33.067293Z",
     "iopub.status.idle": "2025-06-27T12:41:33.097406Z",
     "shell.execute_reply": "2025-06-27T12:41:33.096158Z"
    },
    "papermill": {
     "duration": 0.068866,
     "end_time": "2025-06-27T12:41:33.101372",
     "exception": false,
     "start_time": "2025-06-27T12:41:33.032506",
     "status": "completed"
    },
    "tags": []
   },
   "outputs": [],
   "source": [
    "# Split the cleansed dataset into testing and training subsets:\n",
    "# - `randomSplit([0.3, 0.7], seed=1234)` divides the data into:\n",
    "#   - 30% for the testing set.\n",
    "#   - 70% for the training set.\n",
    "# - The `seed=1234` ensures reproducibility by controlling the randomness of the split.\n",
    "\n",
    "# The resulting subsets `testing` and `training` are ready to be used for model evaluation and training, respectively.\n",
    "\n",
    "(testing,training) = ds_training_cleansed.randomSplit([0.3,0.7],seed=1234)"
   ]
  },
  {
   "cell_type": "code",
   "execution_count": 20,
   "id": "ce9d11d8",
   "metadata": {
    "execution": {
     "iopub.execute_input": "2025-06-27T12:41:33.164421Z",
     "iopub.status.busy": "2025-06-27T12:41:33.163845Z",
     "iopub.status.idle": "2025-06-27T12:41:33.169069Z",
     "shell.execute_reply": "2025-06-27T12:41:33.167973Z"
    },
    "papermill": {
     "duration": 0.040943,
     "end_time": "2025-06-27T12:41:33.172160",
     "exception": false,
     "start_time": "2025-06-27T12:41:33.131217",
     "status": "completed"
    },
    "tags": []
   },
   "outputs": [],
   "source": [
    "from pyspark.ml.classification import DecisionTreeClassifier, LogisticRegression\n",
    "from pyspark.ml.evaluation import MulticlassClassificationEvaluator\n"
   ]
  },
  {
   "cell_type": "code",
   "execution_count": 21,
   "id": "5ee1492f",
   "metadata": {
    "execution": {
     "iopub.execute_input": "2025-06-27T12:41:33.239309Z",
     "iopub.status.busy": "2025-06-27T12:41:33.238746Z",
     "iopub.status.idle": "2025-06-27T12:41:36.820390Z",
     "shell.execute_reply": "2025-06-27T12:41:36.818979Z"
    },
    "papermill": {
     "duration": 3.620116,
     "end_time": "2025-06-27T12:41:36.824663",
     "exception": false,
     "start_time": "2025-06-27T12:41:33.204547",
     "status": "completed"
    },
    "tags": []
   },
   "outputs": [
    {
     "name": "stderr",
     "output_type": "stream",
     "text": [
      "                                                                                \r"
     ]
    }
   ],
   "source": [
    "# Import `DecisionTreeClassifier` from PySpark's ML library to create a decision tree model.\n",
    "\n",
    "# Step 1: Initialize a `DecisionTreeClassifier` instance.\n",
    "# - This model will be used to classify the data based on the \"label\" column (target variable).\n",
    "\n",
    "# Step 2: Train the decision tree model on the `training` dataset.\n",
    "# - `fit(training)` fits the model to the training data, learning from the \"features\" and \"label\" columns.\n",
    "\n",
    "# Step 3: Apply the trained decision tree model to the `testing` dataset.\n",
    "# - `transform(testing)` makes predictions on the test set, generating a new DataFrame with predicted labels and other related metrics (e.g., probabilities, raw prediction values).\n",
    "\n",
    "# The `DT_transform` DataFrame will contain the predictions and be used for model evaluation.\n",
    "\n",
    "DT = DecisionTreeClassifier()\n",
    "DT_fit = DT.fit(training)\n",
    "DT_transform = DT_fit.transform(testing)"
   ]
  },
  {
   "cell_type": "code",
   "execution_count": 22,
   "id": "cd4b02b4",
   "metadata": {
    "execution": {
     "iopub.execute_input": "2025-06-27T12:41:36.902936Z",
     "iopub.status.busy": "2025-06-27T12:41:36.899475Z",
     "iopub.status.idle": "2025-06-27T12:41:39.316967Z",
     "shell.execute_reply": "2025-06-27T12:41:39.315564Z"
    },
    "papermill": {
     "duration": 2.458588,
     "end_time": "2025-06-27T12:41:39.320955",
     "exception": false,
     "start_time": "2025-06-27T12:41:36.862367",
     "status": "completed"
    },
    "tags": []
   },
   "outputs": [
    {
     "name": "stdout",
     "output_type": "stream",
     "text": [
      "Decision Tree Accuracy: 0.7738095238095238, Decision Tree Precision: 0.7745412585838117, Decision Tree Recall: 0.7738095238095238\n"
     ]
    }
   ],
   "source": [
    "# Import `MulticlassClassificationEvaluator` from PySpark ML for evaluating multi-class classification models.\n",
    "\n",
    "# Step 1: Initialize an evaluator instance to assess the performance of the decision tree model.\n",
    "\n",
    "# Step 2: Evaluate the model using different metrics:\n",
    "# - `accuracy`: Measures the proportion of correctly predicted labels over total predictions.\n",
    "# - `weightedPrecision`: Calculates precision considering class imbalance, weighted by the number of instances in each class.\n",
    "# - `weightedRecall`: Computes recall, adjusted for class distribution.\n",
    "\n",
    "# `evaluator.evaluate(DT_transform)` evaluates the decision tree's predictions on the test set `DT_transform`.\n",
    "# The specific metric is selected by setting the `metricName` parameter.\n",
    "\n",
    "# Step 3: Print the evaluation results:\n",
    "# - The accuracy, precision, and recall values of the Decision Tree classifier are displayed.\n",
    "\n",
    "# These metrics will help assess how well the model performs across different aspects, particularly for imbalanced data.\n",
    "\n",
    "evaluator = MulticlassClassificationEvaluator()\n",
    "DT_Accuracy = evaluator.evaluate(DT_transform,{evaluator.metricName:\"accuracy\"})\n",
    "DT_Precision = evaluator.evaluate(DT_transform,{evaluator.metricName:\"weightedPrecision\"})\n",
    "DT_Recall = evaluator.evaluate(DT_transform,{evaluator.metricName:\"weightedRecall\"})\n",
    "print (f\"Decision Tree Accuracy: {DT_Accuracy}, Decision Tree Precision: {DT_Precision}, Decision Tree Recall: {DT_Recall}\" )"
   ]
  },
  {
   "cell_type": "code",
   "execution_count": 23,
   "id": "a958bec1",
   "metadata": {
    "execution": {
     "iopub.execute_input": "2025-06-27T12:41:39.383309Z",
     "iopub.status.busy": "2025-06-27T12:41:39.382009Z",
     "iopub.status.idle": "2025-06-27T12:41:42.443279Z",
     "shell.execute_reply": "2025-06-27T12:41:42.441905Z"
    },
    "papermill": {
     "duration": 3.095388,
     "end_time": "2025-06-27T12:41:42.446470",
     "exception": false,
     "start_time": "2025-06-27T12:41:39.351082",
     "status": "completed"
    },
    "tags": []
   },
   "outputs": [],
   "source": [
    "# Import `LogisticRegression` from PySpark's ML library to create a logistic regression model.\n",
    "\n",
    "# Step 1: Initialize a `LogisticRegression` instance.\n",
    "# - Logistic Regression is a classification algorithm used for predicting binary or multi-class outcomes.\n",
    "\n",
    "# Step 2: Train the logistic regression model on the `training` dataset.\n",
    "# - `fit(training)` fits the model to the training data, learning from the \"features\" and \"label\" columns.\n",
    "\n",
    "# Step 3: Apply the trained logistic regression model to the `testing` dataset.\n",
    "# - `transform(testing)` generates predictions on the test set and produces a new DataFrame with predicted labels and associated probabilities.\n",
    "\n",
    "# The resulting DataFrame `LR_transform` contains the logistic regression predictions, which can be evaluated further.\n",
    "\n",
    "LR = LogisticRegression()\n",
    "LR_fit = LR.fit(training)\n",
    "LR_transform = LR_fit.transform(testing)"
   ]
  },
  {
   "cell_type": "code",
   "execution_count": 24,
   "id": "d6cf455a",
   "metadata": {
    "execution": {
     "iopub.execute_input": "2025-06-27T12:41:42.511807Z",
     "iopub.status.busy": "2025-06-27T12:41:42.510403Z",
     "iopub.status.idle": "2025-06-27T12:41:43.997204Z",
     "shell.execute_reply": "2025-06-27T12:41:43.996027Z"
    },
    "papermill": {
     "duration": 1.522545,
     "end_time": "2025-06-27T12:41:44.000792",
     "exception": false,
     "start_time": "2025-06-27T12:41:42.478247",
     "status": "completed"
    },
    "tags": []
   },
   "outputs": [
    {
     "name": "stdout",
     "output_type": "stream",
     "text": [
      "Logistic Regression Accuracy: 0.7916666666666666, Logistic Regression Precision: 0.8165992112909921, Logistic Regression Recall: 0.7916666666666667\n"
     ]
    }
   ],
   "source": [
    "# Evaluate the performance of the Logistic Regression model using the `MulticlassClassificationEvaluator`.\n",
    "\n",
    "# Step 1: Evaluate the Logistic Regression model using the same metrics:\n",
    "# - `accuracy`: Measures the proportion of correctly predicted labels.\n",
    "# - `weightedPrecision`: Precision weighted by the class distribution, useful for imbalanced classes.\n",
    "# - `weightedRecall`: Recall weighted by the class distribution, useful for imbalanced classes.\n",
    "\n",
    "# `evaluator.evaluate(LR_transform)` evaluates the predictions made by the logistic regression model on the test set `LR_transform`.\n",
    "# The metric to evaluate is selected by setting the `metricName` parameter.\n",
    "\n",
    "# Step 2: Print the evaluation results for the logistic regression model:\n",
    "# - Displays the accuracy, precision, and recall values, providing a comprehensive assessment of the model's performance.\n",
    "\n",
    "# These metrics give a clear understanding of the logistic regression model's ability to make accurate, precise, and complete predictions, especially in scenarios where class imbalance exists.\n",
    "\n",
    "LR_Accuracy = evaluator.evaluate(LR_transform,{evaluator.metricName:\"accuracy\"})\n",
    "LR_Precision = evaluator.evaluate(LR_transform,{evaluator.metricName:\"weightedPrecision\"})\n",
    "LR_Recall = evaluator.evaluate(LR_transform,{evaluator.metricName:\"weightedRecall\"})\n",
    "print (f\"Logistic Regression Accuracy: {LR_Accuracy}, Logistic Regression Precision: {LR_Precision}, Logistic Regression Recall: {LR_Recall}\" )"
   ]
  },
  {
   "cell_type": "code",
   "execution_count": 25,
   "id": "b82a75ea",
   "metadata": {
    "execution": {
     "iopub.execute_input": "2025-06-27T12:41:44.053021Z",
     "iopub.status.busy": "2025-06-27T12:41:44.052617Z",
     "iopub.status.idle": "2025-06-27T12:41:45.166901Z",
     "shell.execute_reply": "2025-06-27T12:41:45.165160Z"
    },
    "papermill": {
     "duration": 1.139517,
     "end_time": "2025-06-27T12:41:45.170031",
     "exception": false,
     "start_time": "2025-06-27T12:41:44.030514",
     "status": "completed"
    },
    "tags": []
   },
   "outputs": [
    {
     "name": "stderr",
     "output_type": "stream",
     "text": [
      "/opt/conda/lib/python3.10/site-packages/pyspark/sql/context.py:125: FutureWarning: Deprecated in 3.0.0. Use SparkSession.builder.getOrCreate() instead.\n",
      "  warnings.warn(\n"
     ]
    },
    {
     "name": "stdout",
     "output_type": "stream",
     "text": [
      "Confusion Matrix for DT:\n",
      "[[109.  32.]\n",
      " [  6.  21.]]\n"
     ]
    },
    {
     "name": "stderr",
     "output_type": "stream",
     "text": [
      "                                                                                \r"
     ]
    }
   ],
   "source": [
    "# Import `MulticlassMetrics` from PySpark's MLLib to evaluate multi-class classification models using various metrics.\n",
    "\n",
    "# Step 1: Convert the predictions from the `DT_transform` DataFrame into an RDD of (label, prediction) pairs.\n",
    "# - `select(\"label\", \"prediction\")`: Selects the true labels and predicted labels.\n",
    "# - `.rdd`: Converts the DataFrame into an RDD to use the `MulticlassMetrics` class.\n",
    "\n",
    "# Step 2: Initialize `MulticlassMetrics` with the RDD to calculate classification metrics.\n",
    "# - `DT_MCM = MulticlassMetrics(DT_transform_rdd)`: Creates a `MulticlassMetrics` instance that calculates various evaluation metrics for the decision tree model.\n",
    "\n",
    "# Step 3: Get the confusion matrix from the `MulticlassMetrics` object.\n",
    "# - `DT_MCM.confusionMatrix()`: Returns the confusion matrix as a dense matrix.\n",
    "# - `.toArray()`: Converts the confusion matrix into a NumPy array for easier readability.\n",
    "\n",
    "# Step 4: Print the confusion matrix.\n",
    "# - The confusion matrix provides insights into the true positive, false positive, true negative, and false negative predictions made by the decision tree model.\n",
    "\n",
    "# This matrix will help evaluate the model's performance in terms of class misclassifications.\n",
    "\n",
    "from pyspark.mllib.evaluation import MulticlassMetrics\n",
    "DT_transform_rdd = DT_transform.select(\"label\",\"prediction\").rdd\n",
    "DT_MCM= MulticlassMetrics(DT_transform_rdd)\n",
    "DT_CM = DT_MCM.confusionMatrix().toArray()\n",
    "print(\"Confusion Matrix for DT:\")\n",
    "print(DT_CM)"
   ]
  },
  {
   "cell_type": "code",
   "execution_count": 26,
   "id": "c8bd0e5b",
   "metadata": {
    "execution": {
     "iopub.execute_input": "2025-06-27T12:41:45.234605Z",
     "iopub.status.busy": "2025-06-27T12:41:45.234030Z",
     "iopub.status.idle": "2025-06-27T12:41:46.223330Z",
     "shell.execute_reply": "2025-06-27T12:41:46.222220Z"
    },
    "papermill": {
     "duration": 1.025018,
     "end_time": "2025-06-27T12:41:46.227175",
     "exception": false,
     "start_time": "2025-06-27T12:41:45.202157",
     "status": "completed"
    },
    "tags": []
   },
   "outputs": [
    {
     "name": "stdout",
     "output_type": "stream",
     "text": [
      "Confusion Matrix for LR:\n",
      "[[113.  33.]\n",
      " [  2.  20.]]\n"
     ]
    }
   ],
   "source": [
    "# Convert the predictions from the `LR_transform` DataFrame into an RDD of (label, prediction) pairs.\n",
    "# - `select(\"label\", \"prediction\")`: Extracts the true labels and predicted labels from the DataFrame.\n",
    "# - `.rdd`: Converts the DataFrame into an RDD to use with `MulticlassMetrics`.\n",
    "\n",
    "# Initialize the `MulticlassMetrics` object with the RDD to evaluate the logistic regression model.\n",
    "# - `LR_MCM = MulticlassMetrics(LR_transform_rdd)`: Creates a `MulticlassMetrics` instance that computes various classification metrics for logistic regression.\n",
    "\n",
    "# Get the confusion matrix from the `MulticlassMetrics` object.\n",
    "# - `LR_MCM.confusionMatrix()`: Returns the confusion matrix, which shows the distribution of true positives, false positives, true negatives, and false negatives.\n",
    "# - `.toArray()`: Converts the confusion matrix into a NumPy array for easier interpretation.\n",
    "\n",
    "# Print the confusion matrix to evaluate the logistic regression model's performance.\n",
    "# - The confusion matrix will provide insights into the misclassification patterns and help assess the model's accuracy in each class.\n",
    "\n",
    "# The confusion matrix is a useful tool to visualize where the logistic regression model is making errors.\n",
    "\n",
    "LR_transform_rdd = LR_transform.select(\"label\",\"prediction\").rdd\n",
    "LR_MCM= MulticlassMetrics(LR_transform_rdd)\n",
    "LR_CM = LR_MCM.confusionMatrix().toArray()\n",
    "print(\"Confusion Matrix for LR:\")\n",
    "print(LR_CM)"
   ]
  },
  {
   "cell_type": "code",
   "execution_count": 27,
   "id": "d4d1742d",
   "metadata": {
    "execution": {
     "iopub.execute_input": "2025-06-27T12:41:46.293940Z",
     "iopub.status.busy": "2025-06-27T12:41:46.293500Z",
     "iopub.status.idle": "2025-06-27T12:41:46.302968Z",
     "shell.execute_reply": "2025-06-27T12:41:46.300647Z"
    },
    "papermill": {
     "duration": 0.045143,
     "end_time": "2025-06-27T12:41:46.305733",
     "exception": false,
     "start_time": "2025-06-27T12:41:46.260590",
     "status": "completed"
    },
    "tags": []
   },
   "outputs": [],
   "source": [
    "# Import necessary libraries:\n",
    "# - `pandas`: For creating and manipulating DataFrames.\n",
    "# - `matplotlib.pyplot` and `seaborn`: For plotting and visualizing data.\n",
    "\n",
    "# Step 1: Convert the confusion matrix of the Decision Tree (DT) model into a Pandas DataFrame.\n",
    "# - `DT_CM` is the confusion matrix for the decision tree model, which is a NumPy array.\n",
    "# - The `DataFrame` is created with `index=[\"label\", \"prediction\"]` and `columns=[\"label\", \"prediction\"]` to label the rows and columns for clarity.\n",
    "\n",
    "# Step 2: Convert the confusion matrix of the Logistic Regression (LR) model into a Pandas DataFrame.\n",
    "# - `LR_CM` is the confusion matrix for the logistic regression model, also a NumPy array.\n",
    "# - Similar to the decision tree, a `DataFrame` is created with labeled rows and columns.\n",
    "\n",
    "# These `DataFrame` objects, `DT_pandas` and `LR_pandas`, make it easier to visualize and compare the confusion matrices of both models.\n",
    "\n",
    "# This is the preparation for visualizing the confusion matrices using heatmaps or other plotting techniques.\n",
    "\n",
    "import pandas as pd\n",
    "import matplotlib.pyplot as plt\n",
    "import seaborn as sns\n",
    "\n",
    "DT_pandas = pd.DataFrame(DT_CM, index = ['Actual Positive', 'Actual Negative'], columns = ['Predicted Positive', 'Predicted Negative'])\n",
    "LR_pandas = pd.DataFrame(LR_CM, index = ['Actual Positive', 'Actual Negative'], columns = ['Predicted Positive', 'Predicted Negative'])"
   ]
  },
  {
   "cell_type": "code",
   "execution_count": 28,
   "id": "be0327b2",
   "metadata": {
    "execution": {
     "iopub.execute_input": "2025-06-27T12:41:46.348084Z",
     "iopub.status.busy": "2025-06-27T12:41:46.347536Z",
     "iopub.status.idle": "2025-06-27T12:41:46.669810Z",
     "shell.execute_reply": "2025-06-27T12:41:46.667726Z"
    },
    "papermill": {
     "duration": 0.347191,
     "end_time": "2025-06-27T12:41:46.673021",
     "exception": false,
     "start_time": "2025-06-27T12:41:46.325830",
     "status": "completed"
    },
    "tags": []
   },
   "outputs": [
    {
     "data": {
      "image/png": "[encoded data removed]",
      "text/plain": [
       "<Figure size 640x480 with 2 Axes>"
      ]
     },
     "metadata": {},
     "output_type": "display_data"
    }
   ],
   "source": [
    "# Access the underlying NumPy array\n",
    "data_values = DT_pandas.values  \n",
    "\n",
    "# Create group counts and percentages\n",
    "group_counts = [\"{0:0.0f}\".format(value) for value in data_values.flatten()]\n",
    "group_percentages = [\"{0:.2%}\".format(value) for value in data_values.flatten() / np.sum(data_values)]\n",
    "\n",
    "# Define group names\n",
    "group_names = [\"True Positive\", \"False Positive\", \"False Negative\", \"True Negative\"]\n",
    "\n",
    "# Combine labels\n",
    "labels = [f\"{v1}\\n{v2}\\n{v3}\" for v1, v2, v3 in zip(group_names, group_counts, group_percentages)]\n",
    "\n",
    "# Reshape labels to a 2x2 array\n",
    "labels = np.asarray(labels).reshape(2, 2)\n",
    "\n",
    "# Create the heatmap\n",
    "sns.heatmap(DT_pandas, annot=labels, fmt=\"\", cmap='Blues')\n",
    "\n",
    "# Add labels and title\n",
    "plt.xlabel('Predicted Label')\n",
    "plt.ylabel('True Label')\n",
    "plt.title('Decision Tree Confusion Matrix Heatmap')\n",
    "\n",
    "plt.show()"
   ]
  },
  {
   "cell_type": "code",
   "execution_count": 29,
   "id": "c4e7daf8",
   "metadata": {
    "execution": {
     "iopub.execute_input": "2025-06-27T12:41:46.716503Z",
     "iopub.status.busy": "2025-06-27T12:41:46.716018Z",
     "iopub.status.idle": "2025-06-27T12:41:47.014902Z",
     "shell.execute_reply": "2025-06-27T12:41:47.013642Z"
    },
    "papermill": {
     "duration": 0.324721,
     "end_time": "2025-06-27T12:41:47.017387",
     "exception": false,
     "start_time": "2025-06-27T12:41:46.692666",
     "status": "completed"
    },
    "tags": []
   },
   "outputs": [
    {
     "data": {
      "image/png": "[encoded data removed]",
      "text/plain": [
       "<Figure size 640x480 with 2 Axes>"
      ]
     },
     "metadata": {},
     "output_type": "display_data"
    }
   ],
   "source": [
    "# Access the underlying NumPy array\n",
    "data_values = LR_pandas.values  \n",
    "\n",
    "# Create group counts and percentages\n",
    "group_counts = [\"{0:0.0f}\".format(value) for value in data_values.flatten()]\n",
    "group_percentages = [\"{0:.2%}\".format(value) for value in data_values.flatten() / np.sum(data_values)]\n",
    "\n",
    "# Define group names\n",
    "group_names = [\"True Positive\", \"False Positive\", \"False Negative\", \"True Negative\"]\n",
    "\n",
    "# Combine labels\n",
    "labels = [f\"{v1}\\n{v2}\\n{v3}\" for v1, v2, v3 in zip(group_names, group_counts, group_percentages)]\n",
    "\n",
    "# Reshape labels to a 2x2 array\n",
    "labels = np.asarray(labels).reshape(2, 2)\n",
    "\n",
    "# Create the heatmap\n",
    "sns.heatmap(LR_pandas, annot=labels, fmt=\"\", cmap='Blues')\n",
    "\n",
    "# Add labels and title\n",
    "plt.xlabel('Predicted Label')\n",
    "plt.ylabel('True Label')\n",
    "plt.title('Linear Regression Confusion Matrix Heatmap')\n",
    "\n",
    "plt.show()"
   ]
  }
 ],
 "metadata": {
  "kaggle": {
   "accelerator": "none",
   "dataSources": [
    {
     "datasetId": 5992107,
     "sourceId": 9780870,
     "sourceType": "datasetVersion"
    }
   ],
   "dockerImageVersionId": 30786,
   "isGpuEnabled": false,
   "isInternetEnabled": true,
   "language": "python",
   "sourceType": "notebook"
  },
  "kernelspec": {
   "display_name": "Python 3",
   "language": "python",
   "name": "python3"
  },
  "language_info": {
   "codemirror_mode": {
    "name": "ipython",
    "version": 3
   },
   "file_extension": ".py",
   "mimetype": "text/x-python",
   "name": "python",
   "nbconvert_exporter": "python",
   "pygments_lexer": "ipython3",
   "version": "3.10.14"
  },
  "papermill": {
   "default_parameters": {},
   "duration": 105.867092,
   "end_time": "2025-06-27T12:41:49.658576",
   "environment_variables": {},
   "exception": null,
   "input_path": "__notebook__.ipynb",
   "output_path": "__notebook__.ipynb",
   "parameters": {},
   "start_time": "2025-06-27T12:40:03.791484",
   "version": "2.6.0"
  }
 },
 "nbformat": 4,
 "nbformat_minor": 5
}
